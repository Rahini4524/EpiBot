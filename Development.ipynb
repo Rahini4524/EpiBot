{
 "cells": [
  {
   "cell_type": "markdown",
   "id": "47615516-1ccb-4d99-a7a3-7e0dca7db03c",
   "metadata": {},
   "source": [
    "### 1.1 Create model to predict `Skin Disease` using `ResNet18` "
   ]
  },
  {
   "cell_type": "markdown",
   "id": "7e257686-fe6b-42df-a3af-6c1b312eb5df",
   "metadata": {},
   "source": [
    "### Import Dependencies"
   ]
  },
  {
   "cell_type": "code",
   "execution_count": 31,
   "id": "cd50941e-0e63-43b2-95bf-dabc08546468",
   "metadata": {},
   "outputs": [],
   "source": [
    "import torch\n",
    "import torch.nn as nn\n",
    "import torch.optim as optim \n",
    "from torchvision import datasets, transforms, models\n",
    "from torch.utils.data import DataLoader, WeightedRandomSampler\n",
    "import os\n",
    "import numpy as np\n",
    "import matplotlib.pyplot as plt\n",
    "from torch.utils.data import WeightedRandomSampler\n",
    "from PIL import Image"
   ]
  },
  {
   "cell_type": "code",
   "execution_count": 2,
   "id": "4f83eb61-7af3-41a0-9ca8-3f1d2c0ccc87",
   "metadata": {},
   "outputs": [
    {
     "name": "stdout",
     "output_type": "stream",
     "text": [
      "2.5.1\n"
     ]
    }
   ],
   "source": [
    "print(torch.__version__)"
   ]
  },
  {
   "cell_type": "code",
   "execution_count": 3,
   "id": "e8a195b0-da3b-48c9-af9d-2f35c448c001",
   "metadata": {},
   "outputs": [
    {
     "name": "stdout",
     "output_type": "stream",
     "text": [
      "True\n",
      "1\n",
      "0\n",
      "NVIDIA GeForce GTX 1650 Ti\n"
     ]
    }
   ],
   "source": [
    "print(torch.cuda.is_available())  # Should return True\n",
    "print(torch.cuda.device_count())  # Number of GPUs\n",
    "print(torch.cuda.current_device())  # Current GPU ID\n",
    "print(torch.cuda.get_device_name(torch.cuda.current_device()))"
   ]
  },
  {
   "cell_type": "code",
   "execution_count": 19,
   "id": "40bf93e1-b18f-4f84-9ed2-90f69fa27e90",
   "metadata": {},
   "outputs": [
    {
     "name": "stdout",
     "output_type": "stream",
     "text": [
      "using device cuda:0\n"
     ]
    }
   ],
   "source": [
    "batch_size = 16\n",
    "num_classes = 10\n",
    "learning_rate = 0.001\n",
    "num_epochs = 20\n",
    "device = torch.device(\"cuda:0\" if torch.cuda.is_available() else \"cpu\")\n",
    "print(f\"using device {device}\")"
   ]
  },
  {
   "cell_type": "code",
   "execution_count": 20,
   "id": "8af7204e-cd10-459c-bedf-d9e0bd9832c5",
   "metadata": {},
   "outputs": [],
   "source": [
    "data_transforms = {\n",
    "    'train': transforms.Compose([\n",
    "        transforms.Resize(256),\n",
    "        # transforms.RandomResizedCrop(224),\n",
    "        transforms.CenterCrop(224),\n",
    "        transforms.RandomHorizontalFlip(),\n",
    "        transforms.ToTensor(),\n",
    "        transforms.Normalize([0.485, 0.456, 0.406], [0.229, 0.224, 0.225])\n",
    "    ]),\n",
    "    'test': transforms.Compose([\n",
    "        transforms.Resize(256),\n",
    "        transforms.CenterCrop(224),\n",
    "        transforms.ToTensor(),\n",
    "        transforms.Normalize([0.485, 0.456, 0.406], [0.229, 0.224, 0.225])\n",
    "    ]),\n",
    "}\n"
   ]
  },
  {
   "cell_type": "code",
   "execution_count": 21,
   "id": "75fec94d-a1e6-4552-be28-bee1fba4e7ee",
   "metadata": {
    "scrolled": true
   },
   "outputs": [],
   "source": [
    "data_dir = r'D:\\rahini\\balanced_dataset'\n",
    "\n",
    "# Load dataset\n",
    "image_datasets = {x: datasets.ImageFolder(root=f\"{data_dir}/{x}\", transform=data_transforms[x])\n",
    "                  for x in ['train', 'test']}\n",
    "class_names = image_datasets['train'].classes  # Define class_names here\n",
    "\n",
    "# Compute class sample counts\n",
    "class_sample_counts = [sum(np.array(image_datasets['train'].targets) == i) for i in range(len(class_names))]\n",
    "class_weights = 1. / np.array(class_sample_counts)\n",
    "\n",
    "# Assign weights to each sample\n",
    "sample_weights = [class_weights[target] for target in image_datasets['train'].targets]\n",
    "sampler = WeightedRandomSampler(sample_weights, num_samples=len(sample_weights), replacement=True)\n",
    "\n",
    "# Create DataLoader with weighted sampler for training\n",
    "train_loader = DataLoader(image_datasets['train'], batch_size=batch_size, sampler=sampler,num_workers=4, pin_memory=True)\n",
    "validation_loader = DataLoader(image_datasets['test'], batch_size=batch_size, shuffle=True,num_workers=4, pin_memory=True)\n",
    "\n",
    "# Create a dictionary of dataloaders\n",
    "dataloaders = {'train': train_loader, 'test': validation_loader}\n",
    "\n",
    "# Dataset sizes for each phase\n",
    "dataset_sizes = {x: len(image_datasets[x]) for x in ['train', 'test']}\n"
   ]
  },
  {
   "cell_type": "code",
   "execution_count": 30,
   "id": "3a27b3a3-7816-49eb-9d2d-3bffec82c07d",
   "metadata": {},
   "outputs": [
    {
     "name": "stdout",
     "output_type": "stream",
     "text": [
      "['1. Eczema 1677', '10. Warts Molluscum and other Viral Infections - 2103', '2. Melanoma 15.75k', '3. Atopic Dermatitis - 1.25k', '4. Basal Cell Carcinoma (BCC) 3323', '5. Melanocytic Nevi (NV) - 7970', '6. Benign Keratosis-like Lesions (BKL) 2624', '7. Psoriasis pictures Lichen Planus and related diseases - 2k', '8. Seborrheic Keratoses and other Benign Tumors - 1.8k', '9. Tinea Ringworm Candidiasis and other Fungal Infections - 1.7k']\n"
     ]
    }
   ],
   "source": [
    "class_names = image_datasets['train'].classes\n",
    "print(class_names)"
   ]
  },
  {
   "cell_type": "code",
   "execution_count": 22,
   "id": "e389387e-a679-4128-96f8-e935a0014c18",
   "metadata": {},
   "outputs": [],
   "source": [
    "model = models.resnet18(weights=models.ResNet18_Weights.IMAGENET1K_V1)\n",
    "model.fc = nn.Linear(model.fc.in_features, num_classes)  # Adjust the final layer\n",
    "model = model.to(device)\n"
   ]
  },
  {
   "cell_type": "code",
   "execution_count": 23,
   "id": "984b51e3-77ba-4cf1-8c5e-02b7cc437c98",
   "metadata": {},
   "outputs": [
    {
     "name": "stdout",
     "output_type": "stream",
     "text": [
      "cuda:0\n"
     ]
    }
   ],
   "source": [
    "print(next(model.parameters()).device)  "
   ]
  },
  {
   "cell_type": "code",
   "execution_count": 24,
   "id": "de7fa636-b3b8-4433-a84d-94ff5486871c",
   "metadata": {},
   "outputs": [],
   "source": [
    "criterion = nn.CrossEntropyLoss()\n",
    "optimizer = optim.Adam(model.parameters(), lr=learning_rate)\n"
   ]
  },
  {
   "cell_type": "code",
   "execution_count": 25,
   "id": "6217555c-3078-41d5-b621-b97de14e8fbf",
   "metadata": {},
   "outputs": [],
   "source": [
    "def train_model(model, dataloaders, criterion, optimizer, num_epochs=10):\n",
    "    best_model_wts = model.state_dict()\n",
    "    best_acc = 0.0\n",
    "\n",
    "    for epoch in range(num_epochs):\n",
    "        print(f'Epoch {epoch + 1}/{num_epochs}')\n",
    "        print('-' * 10)\n",
    "\n",
    "        # Each epoch has a training and validation phase\n",
    "        for phase in ['train', 'test']:\n",
    "            if phase == 'train':\n",
    "                model.train()  # Set model to training mode\n",
    "            else:\n",
    "                model.eval()  # Set model to evaluate mode\n",
    "\n",
    "            running_loss = 0.0\n",
    "            running_corrects = 0\n",
    "\n",
    "            # Iterate over data\n",
    "            for inputs, labels in dataloaders[phase]:\n",
    "                inputs, labels = inputs.to(device), labels.to(device)\n",
    "\n",
    "                # Zero the parameter gradients\n",
    "                optimizer.zero_grad()\n",
    "\n",
    "                # Forward pass\n",
    "                with torch.set_grad_enabled(phase == 'train'):\n",
    "                    outputs = model(inputs)\n",
    "                    _, preds = torch.max(outputs, 1)\n",
    "                    loss = criterion(outputs, labels)\n",
    "\n",
    "                    # Backward pass and optimize only in training phase\n",
    "                    if phase == 'train':\n",
    "                        loss.backward()\n",
    "                        optimizer.step()\n",
    "\n",
    "                # Statistics\n",
    "                running_loss += loss.item() * inputs.size(0)\n",
    "                running_corrects += torch.sum(preds == labels.data)\n",
    "\n",
    "            epoch_loss = running_loss / dataset_sizes[phase]\n",
    "            epoch_acc = running_corrects.double() / dataset_sizes[phase]\n",
    "\n",
    "            print(f'{phase} Loss: {epoch_loss:.4f} Acc: {epoch_acc:.4f}')\n",
    "\n",
    "            # Deep copy the model\n",
    "            if phase == 'test' and epoch_acc > best_acc:\n",
    "                best_acc = epoch_acc\n",
    "                best_model_wts = model.state_dict()\n",
    "\n",
    "    print(f'Best Validation Accuracy: {best_acc:.4f}')\n",
    "    # Load best model weights\n",
    "    model.load_state_dict(best_model_wts)\n",
    "    return model\n"
   ]
  },
  {
   "cell_type": "code",
   "execution_count": 26,
   "id": "13817afe-c7ed-448f-84df-ace262d56f9a",
   "metadata": {},
   "outputs": [
    {
     "name": "stdout",
     "output_type": "stream",
     "text": [
      "Epoch 1/20\n",
      "----------\n",
      "train Loss: 1.5074 Acc: 0.4186\n",
      "test Loss: 1.3397 Acc: 0.4675\n",
      "Epoch 2/20\n",
      "----------\n",
      "train Loss: 1.2736 Acc: 0.5064\n",
      "test Loss: 1.4006 Acc: 0.4850\n",
      "Epoch 3/20\n",
      "----------\n",
      "train Loss: 1.1715 Acc: 0.5493\n",
      "test Loss: 1.1483 Acc: 0.5608\n",
      "Epoch 4/20\n",
      "----------\n",
      "train Loss: 1.1027 Acc: 0.5797\n",
      "test Loss: 1.2484 Acc: 0.5279\n",
      "Epoch 5/20\n",
      "----------\n",
      "train Loss: 1.0270 Acc: 0.6075\n",
      "test Loss: 1.1266 Acc: 0.5842\n",
      "Epoch 6/20\n",
      "----------\n",
      "train Loss: 0.9755 Acc: 0.6352\n",
      "test Loss: 1.1021 Acc: 0.5879\n",
      "Epoch 7/20\n",
      "----------\n",
      "train Loss: 0.8903 Acc: 0.6693\n",
      "test Loss: 1.1154 Acc: 0.6033\n",
      "Epoch 8/20\n",
      "----------\n",
      "train Loss: 0.8363 Acc: 0.6983\n",
      "test Loss: 1.1952 Acc: 0.5763\n",
      "Epoch 9/20\n",
      "----------\n",
      "train Loss: 0.7497 Acc: 0.7280\n",
      "test Loss: 1.1209 Acc: 0.6179\n",
      "Epoch 10/20\n",
      "----------\n",
      "train Loss: 0.6608 Acc: 0.7619\n",
      "test Loss: 1.2484 Acc: 0.6113\n",
      "Epoch 11/20\n",
      "----------\n",
      "train Loss: 0.6162 Acc: 0.7836\n",
      "test Loss: 1.2157 Acc: 0.6088\n",
      "Epoch 12/20\n",
      "----------\n",
      "train Loss: 0.5220 Acc: 0.8181\n",
      "test Loss: 1.2371 Acc: 0.6158\n",
      "Epoch 13/20\n",
      "----------\n",
      "train Loss: 0.4549 Acc: 0.8419\n",
      "test Loss: 1.3142 Acc: 0.6008\n",
      "Epoch 14/20\n",
      "----------\n",
      "train Loss: 0.3860 Acc: 0.8688\n",
      "test Loss: 1.3173 Acc: 0.6217\n",
      "Epoch 15/20\n",
      "----------\n",
      "train Loss: 0.3496 Acc: 0.8840\n",
      "test Loss: 1.3932 Acc: 0.6200\n",
      "Epoch 16/20\n",
      "----------\n",
      "train Loss: 0.2990 Acc: 0.8959\n",
      "test Loss: 1.4857 Acc: 0.6079\n",
      "Epoch 17/20\n",
      "----------\n",
      "train Loss: 0.2663 Acc: 0.9086\n",
      "test Loss: 1.6456 Acc: 0.6129\n",
      "Epoch 18/20\n",
      "----------\n",
      "train Loss: 0.2240 Acc: 0.9242\n",
      "test Loss: 1.5053 Acc: 0.6325\n",
      "Epoch 19/20\n",
      "----------\n",
      "train Loss: 0.2049 Acc: 0.9313\n",
      "test Loss: 1.6521 Acc: 0.6083\n",
      "Epoch 20/20\n",
      "----------\n",
      "train Loss: 0.2075 Acc: 0.9338\n",
      "test Loss: 1.6253 Acc: 0.6221\n",
      "Best Validation Accuracy: 0.6325\n"
     ]
    }
   ],
   "source": [
    "model = train_model(model, dataloaders, criterion, optimizer, num_epochs)"
   ]
  },
  {
   "cell_type": "code",
   "execution_count": 27,
   "id": "ca17a454-0037-465c-9a0f-8f712b18996c",
   "metadata": {},
   "outputs": [],
   "source": [
    "torch.save(model.state_dict(), 'skin_disease_model.pth')\n"
   ]
  },
  {
   "cell_type": "code",
   "execution_count": 32,
   "id": "1564f7b8-2597-40f1-96e0-0bb531c27304",
   "metadata": {
    "scrolled": true
   },
   "outputs": [],
   "source": [
    "def predict_image(image_path, model, class_names):\n",
    "    model.eval()\n",
    "    transform = data_transforms['test']\n",
    "    image = Image.open(image_path).convert('RGB')\n",
    "    image = transform(image).unsqueeze(0).to(device)\n",
    "    # image.unsqueeze(0)\n",
    "    with torch.no_grad():\n",
    "        outputs = model(image)\n",
    "        # print(outputs)\n",
    "        _, preds = torch.max(outputs, 1)\n",
    "\n",
    "    return class_names[preds.item()]"
   ]
  },
  {
   "cell_type": "code",
   "execution_count": 33,
   "id": "4af05c58-2948-4e04-b6cc-5312174024d4",
   "metadata": {},
   "outputs": [
    {
     "data": {
      "text/plain": [
       "'8. Seborrheic Keratoses and other Benign Tumors - 1.8k'"
      ]
     },
     "execution_count": 33,
     "metadata": {},
     "output_type": "execute_result"
    }
   ],
   "source": [
    "img_path = r\"D:\\rahini\\balanced_dataset\\train\\8. Seborrheic Keratoses and other Benign Tumors - 1.8k\\0_24.jpg\" \n",
    "predict_image(img_path, model, class_names)"
   ]
  },
  {
   "cell_type": "markdown",
   "id": "411ad152-bf65-4827-9039-0463c4748a29",
   "metadata": {},
   "source": [
    "### 1.2 Integrate `Decision Tree` with `ResNet18`\n",
    "to fulfill the accuracy gap (especially validation accuracy)"
   ]
  },
  {
   "cell_type": "code",
   "execution_count": 34,
   "id": "07c5ffe9-78b8-4ef8-b487-cc3f695b8015",
   "metadata": {},
   "outputs": [],
   "source": [
    "from sklearn.tree import DecisionTreeClassifier\n",
    "from sklearn.model_selection import train_test_split\n",
    "from sklearn.metrics import accuracy_score\n",
    "import joblib"
   ]
  },
  {
   "cell_type": "code",
   "execution_count": 35,
   "id": "2ce98509-f68a-4fcf-aecf-a6fa7aa2a311",
   "metadata": {},
   "outputs": [],
   "source": [
    "import pandas as pd"
   ]
  },
  {
   "cell_type": "code",
   "execution_count": 36,
   "id": "02b41e63-f251-4693-bd8a-d48bfa0b36d9",
   "metadata": {},
   "outputs": [
    {
     "data": {
      "text/html": [
       "<div>\n",
       "<style scoped>\n",
       "    .dataframe tbody tr th:only-of-type {\n",
       "        vertical-align: middle;\n",
       "    }\n",
       "\n",
       "    .dataframe tbody tr th {\n",
       "        vertical-align: top;\n",
       "    }\n",
       "\n",
       "    .dataframe thead th {\n",
       "        text-align: right;\n",
       "    }\n",
       "</style>\n",
       "<table border=\"1\" class=\"dataframe\">\n",
       "  <thead>\n",
       "    <tr style=\"text-align: right;\">\n",
       "      <th></th>\n",
       "      <th>Disease</th>\n",
       "      <th>Itchiness</th>\n",
       "      <th>Redness</th>\n",
       "      <th>Burning</th>\n",
       "      <th>Pain</th>\n",
       "      <th>Swelling</th>\n",
       "      <th>Scaling</th>\n",
       "      <th>Blisters</th>\n",
       "      <th>Open Wounds / Pus</th>\n",
       "      <th>White Patches</th>\n",
       "      <th>Lumps or Growths</th>\n",
       "      <th>Dark Spots / Pigmentation</th>\n",
       "      <th>Dry Skin</th>\n",
       "      <th>label</th>\n",
       "    </tr>\n",
       "  </thead>\n",
       "  <tbody>\n",
       "    <tr>\n",
       "      <th>0</th>\n",
       "      <td>Eczema</td>\n",
       "      <td>1</td>\n",
       "      <td>1</td>\n",
       "      <td>0</td>\n",
       "      <td>0</td>\n",
       "      <td>0</td>\n",
       "      <td>1</td>\n",
       "      <td>0</td>\n",
       "      <td>0</td>\n",
       "      <td>0</td>\n",
       "      <td>0</td>\n",
       "      <td>0</td>\n",
       "      <td>1</td>\n",
       "      <td>0</td>\n",
       "    </tr>\n",
       "    <tr>\n",
       "      <th>1</th>\n",
       "      <td>Atopic Dermatitis</td>\n",
       "      <td>1</td>\n",
       "      <td>1</td>\n",
       "      <td>0</td>\n",
       "      <td>0</td>\n",
       "      <td>1</td>\n",
       "      <td>0</td>\n",
       "      <td>0</td>\n",
       "      <td>0</td>\n",
       "      <td>0</td>\n",
       "      <td>0</td>\n",
       "      <td>0</td>\n",
       "      <td>1</td>\n",
       "      <td>2</td>\n",
       "    </tr>\n",
       "    <tr>\n",
       "      <th>2</th>\n",
       "      <td>Psoriasis</td>\n",
       "      <td>0</td>\n",
       "      <td>1</td>\n",
       "      <td>0</td>\n",
       "      <td>0</td>\n",
       "      <td>0</td>\n",
       "      <td>1</td>\n",
       "      <td>0</td>\n",
       "      <td>0</td>\n",
       "      <td>1</td>\n",
       "      <td>0</td>\n",
       "      <td>0</td>\n",
       "      <td>0</td>\n",
       "      <td>6</td>\n",
       "    </tr>\n",
       "    <tr>\n",
       "      <th>3</th>\n",
       "      <td>Fungal Infection</td>\n",
       "      <td>1</td>\n",
       "      <td>1</td>\n",
       "      <td>0</td>\n",
       "      <td>0</td>\n",
       "      <td>0</td>\n",
       "      <td>0</td>\n",
       "      <td>1</td>\n",
       "      <td>0</td>\n",
       "      <td>1</td>\n",
       "      <td>0</td>\n",
       "      <td>0</td>\n",
       "      <td>0</td>\n",
       "      <td>8</td>\n",
       "    </tr>\n",
       "    <tr>\n",
       "      <th>4</th>\n",
       "      <td>Melanoma</td>\n",
       "      <td>1</td>\n",
       "      <td>0</td>\n",
       "      <td>0</td>\n",
       "      <td>0</td>\n",
       "      <td>0</td>\n",
       "      <td>0</td>\n",
       "      <td>0</td>\n",
       "      <td>0</td>\n",
       "      <td>0</td>\n",
       "      <td>1</td>\n",
       "      <td>1</td>\n",
       "      <td>0</td>\n",
       "      <td>1</td>\n",
       "    </tr>\n",
       "  </tbody>\n",
       "</table>\n",
       "</div>"
      ],
      "text/plain": [
       "             Disease  Itchiness  Redness  Burning  Pain  Swelling  Scaling  \\\n",
       "0             Eczema          1        1        0     0         0        1   \n",
       "1  Atopic Dermatitis          1        1        0     0         1        0   \n",
       "2          Psoriasis          0        1        0     0         0        1   \n",
       "3   Fungal Infection          1        1        0     0         0        0   \n",
       "4           Melanoma          1        0        0     0         0        0   \n",
       "\n",
       "   Blisters  Open Wounds / Pus  White Patches  Lumps or Growths  \\\n",
       "0         0                  0              0                 0   \n",
       "1         0                  0              0                 0   \n",
       "2         0                  0              1                 0   \n",
       "3         1                  0              1                 0   \n",
       "4         0                  0              0                 1   \n",
       "\n",
       "   Dark Spots / Pigmentation  Dry Skin  label  \n",
       "0                          0         1      0  \n",
       "1                          0         1      2  \n",
       "2                          0         0      6  \n",
       "3                          0         0      8  \n",
       "4                          1         0      1  "
      ]
     },
     "execution_count": 36,
     "metadata": {},
     "output_type": "execute_result"
    }
   ],
   "source": [
    "df = pd.read_csv(\"disease_symptoms.csv\")\n",
    "df.head()"
   ]
  },
  {
   "cell_type": "code",
   "execution_count": 37,
   "id": "a72e20f8-f4c8-4e9d-8552-2951bef95e6d",
   "metadata": {},
   "outputs": [
    {
     "data": {
      "text/html": [
       "<div>\n",
       "<style scoped>\n",
       "    .dataframe tbody tr th:only-of-type {\n",
       "        vertical-align: middle;\n",
       "    }\n",
       "\n",
       "    .dataframe tbody tr th {\n",
       "        vertical-align: top;\n",
       "    }\n",
       "\n",
       "    .dataframe thead th {\n",
       "        text-align: right;\n",
       "    }\n",
       "</style>\n",
       "<table border=\"1\" class=\"dataframe\">\n",
       "  <thead>\n",
       "    <tr style=\"text-align: right;\">\n",
       "      <th></th>\n",
       "      <th>Itchiness</th>\n",
       "      <th>Redness</th>\n",
       "      <th>Burning</th>\n",
       "      <th>Pain</th>\n",
       "      <th>Swelling</th>\n",
       "      <th>Scaling</th>\n",
       "      <th>Blisters</th>\n",
       "      <th>Open Wounds / Pus</th>\n",
       "      <th>White Patches</th>\n",
       "      <th>Lumps or Growths</th>\n",
       "      <th>Dark Spots / Pigmentation</th>\n",
       "      <th>Dry Skin</th>\n",
       "      <th>label</th>\n",
       "    </tr>\n",
       "  </thead>\n",
       "  <tbody>\n",
       "    <tr>\n",
       "      <th>0</th>\n",
       "      <td>1</td>\n",
       "      <td>1</td>\n",
       "      <td>0</td>\n",
       "      <td>0</td>\n",
       "      <td>0</td>\n",
       "      <td>1</td>\n",
       "      <td>0</td>\n",
       "      <td>0</td>\n",
       "      <td>0</td>\n",
       "      <td>0</td>\n",
       "      <td>0</td>\n",
       "      <td>1</td>\n",
       "      <td>0</td>\n",
       "    </tr>\n",
       "    <tr>\n",
       "      <th>1</th>\n",
       "      <td>1</td>\n",
       "      <td>1</td>\n",
       "      <td>0</td>\n",
       "      <td>0</td>\n",
       "      <td>1</td>\n",
       "      <td>0</td>\n",
       "      <td>0</td>\n",
       "      <td>0</td>\n",
       "      <td>0</td>\n",
       "      <td>0</td>\n",
       "      <td>0</td>\n",
       "      <td>1</td>\n",
       "      <td>2</td>\n",
       "    </tr>\n",
       "    <tr>\n",
       "      <th>2</th>\n",
       "      <td>0</td>\n",
       "      <td>1</td>\n",
       "      <td>0</td>\n",
       "      <td>0</td>\n",
       "      <td>0</td>\n",
       "      <td>1</td>\n",
       "      <td>0</td>\n",
       "      <td>0</td>\n",
       "      <td>1</td>\n",
       "      <td>0</td>\n",
       "      <td>0</td>\n",
       "      <td>0</td>\n",
       "      <td>6</td>\n",
       "    </tr>\n",
       "    <tr>\n",
       "      <th>3</th>\n",
       "      <td>1</td>\n",
       "      <td>1</td>\n",
       "      <td>0</td>\n",
       "      <td>0</td>\n",
       "      <td>0</td>\n",
       "      <td>0</td>\n",
       "      <td>1</td>\n",
       "      <td>0</td>\n",
       "      <td>1</td>\n",
       "      <td>0</td>\n",
       "      <td>0</td>\n",
       "      <td>0</td>\n",
       "      <td>8</td>\n",
       "    </tr>\n",
       "    <tr>\n",
       "      <th>4</th>\n",
       "      <td>1</td>\n",
       "      <td>0</td>\n",
       "      <td>0</td>\n",
       "      <td>0</td>\n",
       "      <td>0</td>\n",
       "      <td>0</td>\n",
       "      <td>0</td>\n",
       "      <td>0</td>\n",
       "      <td>0</td>\n",
       "      <td>1</td>\n",
       "      <td>1</td>\n",
       "      <td>0</td>\n",
       "      <td>1</td>\n",
       "    </tr>\n",
       "  </tbody>\n",
       "</table>\n",
       "</div>"
      ],
      "text/plain": [
       "   Itchiness  Redness  Burning  Pain  Swelling  Scaling  Blisters  \\\n",
       "0          1        1        0     0         0        1         0   \n",
       "1          1        1        0     0         1        0         0   \n",
       "2          0        1        0     0         0        1         0   \n",
       "3          1        1        0     0         0        0         1   \n",
       "4          1        0        0     0         0        0         0   \n",
       "\n",
       "   Open Wounds / Pus  White Patches  Lumps or Growths  \\\n",
       "0                  0              0                 0   \n",
       "1                  0              0                 0   \n",
       "2                  0              1                 0   \n",
       "3                  0              1                 0   \n",
       "4                  0              0                 1   \n",
       "\n",
       "   Dark Spots / Pigmentation  Dry Skin  label  \n",
       "0                          0         1      0  \n",
       "1                          0         1      2  \n",
       "2                          0         0      6  \n",
       "3                          0         0      8  \n",
       "4                          1         0      1  "
      ]
     },
     "execution_count": 37,
     "metadata": {},
     "output_type": "execute_result"
    }
   ],
   "source": [
    "df = df.drop(\"Disease\", axis=\"columns\")\n",
    "df.head()"
   ]
  },
  {
   "cell_type": "code",
   "execution_count": 38,
   "id": "76bf2c6b-3d43-4597-b364-1c3bb1910118",
   "metadata": {},
   "outputs": [],
   "source": [
    "symptoms ={\n",
    "    i:df[df[\"label\"] == i].drop(\"label\", axis=\"columns\").to_numpy()\n",
    "    for i in range(10)\n",
    "}"
   ]
  },
  {
   "cell_type": "code",
   "execution_count": 39,
   "id": "66269818-2993-4ed6-9350-caf4d3f1934d",
   "metadata": {},
   "outputs": [
    {
     "data": {
      "text/plain": [
       "array([[1, 1, 0, 0, 0, 1, 0, 0, 0, 0, 0, 1]], dtype=int64)"
      ]
     },
     "execution_count": 39,
     "metadata": {},
     "output_type": "execute_result"
    }
   ],
   "source": [
    "symptoms[0]"
   ]
  },
  {
   "cell_type": "code",
   "execution_count": 40,
   "id": "500809ac-5be3-4751-bb70-1f0ddb0b193c",
   "metadata": {},
   "outputs": [],
   "source": [
    "X_train, y_train = [], []\n",
    "for images, labels in train_loader:\n",
    "    for i in range(len(labels)):\n",
    "        img = images[i]\n",
    "        label = labels[i]\n",
    "        img = img.unsqueeze(0).to(device)\n",
    "        with torch.no_grad():\n",
    "            out = model(img)\n",
    "        \n",
    "        pred = out[0].cpu().numpy()\n",
    "        rd_symptom = symptoms[label.item()][np.random.randint(len(symptoms[label.item()]))]\n",
    "        _x = np.concatenate([pred, rd_symptom])        \n",
    "        X_train.append(_x)\n",
    "        y_train.append(label.item())"
   ]
  },
  {
   "cell_type": "code",
   "execution_count": 41,
   "id": "37db3aa1-7940-4abb-83bc-2f6652e4b9ba",
   "metadata": {},
   "outputs": [
    {
     "data": {
      "text/plain": [
       "array([ -0.46364403,   6.32823038, -11.68267441,  -7.68953466,\n",
       "       -10.76054287,  -8.56745243, -10.60430241,   0.11241622,\n",
       "        -4.69105768,  -4.128335  ,   1.        ,   0.        ,\n",
       "         0.        ,   0.        ,   0.        ,   0.        ,\n",
       "         0.        ,   0.        ,   0.        ,   1.        ,\n",
       "         1.        ,   0.        ])"
      ]
     },
     "execution_count": 41,
     "metadata": {},
     "output_type": "execute_result"
    }
   ],
   "source": [
    "X_train[0]"
   ]
  },
  {
   "cell_type": "code",
   "execution_count": 42,
   "id": "18e886e1-abf1-489b-8aef-99f9b3c02bd4",
   "metadata": {},
   "outputs": [
    {
     "data": {
      "text/plain": [
       "1"
      ]
     },
     "execution_count": 42,
     "metadata": {},
     "output_type": "execute_result"
    }
   ],
   "source": [
    "y_train[0]"
   ]
  },
  {
   "cell_type": "code",
   "execution_count": 43,
   "id": "0b4ecda4-ec07-4c1b-99d7-69778431a0e3",
   "metadata": {},
   "outputs": [],
   "source": [
    "cls = DecisionTreeClassifier()"
   ]
  },
  {
   "cell_type": "code",
   "execution_count": 44,
   "id": "7373089c-6e8b-440b-bf5f-d5400b2abe2f",
   "metadata": {},
   "outputs": [
    {
     "name": "stdout",
     "output_type": "stream",
     "text": [
      "Decision Tree model saved successfully!\n"
     ]
    }
   ],
   "source": [
    "cls.fit(X_train, y_train)\n",
    "joblib.dump(cls, \"decision_tree_model.pkl\")  # Save model as a file\n",
    "print(\"Decision Tree model saved successfully!\")"
   ]
  },
  {
   "cell_type": "code",
   "execution_count": 45,
   "id": "c662444b-d10f-4173-a958-98585036de87",
   "metadata": {},
   "outputs": [
    {
     "data": {
      "text/plain": [
       "array([9])"
      ]
     },
     "execution_count": 45,
     "metadata": {},
     "output_type": "execute_result"
    }
   ],
   "source": [
    "cls.predict([X_train[401]])"
   ]
  },
  {
   "cell_type": "code",
   "execution_count": 46,
   "id": "f4be93df-23c3-4456-acc4-b0e04a7c27d8",
   "metadata": {},
   "outputs": [
    {
     "data": {
      "text/plain": [
       "9"
      ]
     },
     "execution_count": 46,
     "metadata": {},
     "output_type": "execute_result"
    }
   ],
   "source": [
    "y_train[401]"
   ]
  },
  {
   "cell_type": "code",
   "execution_count": 47,
   "id": "568d9c57-fa46-4504-90c6-032ab9220c6d",
   "metadata": {},
   "outputs": [],
   "source": [
    "X_test, y_test = [], []\n",
    "for images, labels in validation_loader:\n",
    "    for i in range(len(labels)):\n",
    "        img = images[i]\n",
    "        label = labels[i]\n",
    "        img = img.unsqueeze(0).to(device)\n",
    "        with torch.no_grad():\n",
    "            out = model(img)\n",
    "        \n",
    "        pred = out[0].cpu().numpy()\n",
    "        rd_symptom = symptoms[label.item()][np.random.randint(len(symptoms[label.item()]))]\n",
    "        _x = np.concatenate([pred, rd_symptom])        \n",
    "        X_test.append(_x)\n",
    "        y_test.append(label.item())"
   ]
  },
  {
   "cell_type": "code",
   "execution_count": 48,
   "id": "4f38fcaa-768a-466d-961c-edba49cd4c3d",
   "metadata": {},
   "outputs": [
    {
     "data": {
      "text/plain": [
       "0.9966666666666667"
      ]
     },
     "execution_count": 48,
     "metadata": {},
     "output_type": "execute_result"
    }
   ],
   "source": [
    "cls.score(X_test, y_test)"
   ]
  },
  {
   "cell_type": "markdown",
   "id": "028ba81f-53e5-476e-8462-fc5a31a84433",
   "metadata": {},
   "source": [
    "<table style=\"float: left;\">\n",
    "    <tr>\n",
    "        <th>Method</th>\n",
    "        <th>Accuracy</th>\n",
    "    </tr>\n",
    "    <tr>\n",
    "        <td>without Decision Tree</td>\n",
    "        <td style=\"color: orange;\">0.6325</td>\n",
    "    </tr>\n",
    "    <tr>\n",
    "        <td>with Decision Tree</td>\n",
    "        <td style=\"color: green;\">0.9966</td>\n",
    "    </tr>\n",
    "</table>\n"
   ]
  },
  {
   "cell_type": "code",
   "execution_count": null,
   "id": "7daa62f9-26a8-4eed-aeb4-399daf55be35",
   "metadata": {},
   "outputs": [],
   "source": []
  }
 ],
 "metadata": {
  "kernelspec": {
   "display_name": "Python 3 (ipykernel)",
   "language": "python",
   "name": "python3"
  },
  "language_info": {
   "codemirror_mode": {
    "name": "ipython",
    "version": 3
   },
   "file_extension": ".py",
   "mimetype": "text/x-python",
   "name": "python",
   "nbconvert_exporter": "python",
   "pygments_lexer": "ipython3",
   "version": "3.12.8"
  }
 },
 "nbformat": 4,
 "nbformat_minor": 5
}
